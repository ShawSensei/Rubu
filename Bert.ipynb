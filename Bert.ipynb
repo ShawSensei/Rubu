{
 "cells": [
  {
   "cell_type": "code",
   "execution_count": 19,
   "metadata": {},
   "outputs": [
    {
     "name": "stderr",
     "output_type": "stream",
     "text": [
      "Some weights of BertForQuestionAnswering were not initialized from the model checkpoint at sagorsarker/bangla-bert-base and are newly initialized: ['qa_outputs.weight', 'qa_outputs.bias']\n",
      "You should probably TRAIN this model on a down-stream task to be able to use it for predictions and inference.\n",
      "/home/wasit/.local/lib/python3.10/site-packages/transformers/optimization.py:429: FutureWarning: This implementation of AdamW is deprecated and will be removed in a future version. Use the PyTorch implementation torch.optim.AdamW instead, or set `no_deprecation_warning=True` to disable this warning\n",
      "  warnings.warn(\n",
      "Epoch 1: 100%|████████████████████████████████████████████████████████████████████████| 803/803 [00:23<00:00, 34.83it/s]\n"
     ]
    },
    {
     "name": "stdout",
     "output_type": "stream",
     "text": [
      "Epoch 1 - Average Loss: 0.0\n"
     ]
    },
    {
     "name": "stderr",
     "output_type": "stream",
     "text": [
      "Epoch 2: 100%|████████████████████████████████████████████████████████████████████████| 803/803 [00:23<00:00, 34.72it/s]\n"
     ]
    },
    {
     "name": "stdout",
     "output_type": "stream",
     "text": [
      "Epoch 2 - Average Loss: 0.0\n"
     ]
    },
    {
     "name": "stderr",
     "output_type": "stream",
     "text": [
      "Epoch 3: 100%|████████████████████████████████████████████████████████████████████████| 803/803 [00:23<00:00, 34.47it/s]\n"
     ]
    },
    {
     "name": "stdout",
     "output_type": "stream",
     "text": [
      "Epoch 3 - Average Loss: 0.0\n"
     ]
    },
    {
     "name": "stderr",
     "output_type": "stream",
     "text": [
      "Evaluating: 100%|█████████████████████████████████████████████████████████████████████| 201/201 [00:05<00:00, 33.90it/s]\n"
     ]
    }
   ],
   "source": [
    "import os\n",
    "import pandas as pd\n",
    "import torch\n",
    "from torch.utils.data import DataLoader, TensorDataset\n",
    "from transformers import BertTokenizer, BertForQuestionAnswering, AdamW, get_linear_schedule_with_warmup\n",
    "from sklearn.model_selection import train_test_split\n",
    "from sklearn.preprocessing import LabelEncoder\n",
    "from sklearn.metrics import accuracy_score, f1_score\n",
    "from nltk.translate.bleu_score import sentence_bleu\n",
    "from tqdm import tqdm\n",
    "\n",
    "def tokenize_and_encode(question, context):\n",
    "    input_text = f\"প্রশ্ন: {question} প্রস্তুতি: {context}\"\n",
    "    inputs = tokenizer.encode_plus(input_text, add_special_tokens=True, return_tensors=\"pt\", max_length=max_length, truncation=True)\n",
    "    return inputs\n",
    "\n",
    "data = pd.read_csv('/mnt/f/Huggingface/rubayet/alldata.xlsx.csv')  \n",
    "train_data, test_data = train_test_split(data, test_size=0.2, random_state=42)\n",
    "\n",
    "model_name = 'sagorsarker/bangla-bert-base'\n",
    "tokenizer = BertTokenizer.from_pretrained(model_name)\n",
    "model = BertForQuestionAnswering.from_pretrained(model_name)\n",
    "\n",
    "max_length = 40\n",
    "\n",
    "def prepare_dataset(data):\n",
    "    le = LabelEncoder()\n",
    "    labels_start = torch.tensor(le.fit_transform(data['ANSWER'])).unsqueeze(1)  \n",
    "\n",
    "    tokenized_data = [tokenize_and_encode(q, c) for q, c in zip(data['QUESTION'], data['sentence segment 4'])]\n",
    "    max_len = max(len(item['input_ids'][0]) for item in tokenized_data)\n",
    "    \n",
    "    input_ids = torch.stack([torch.cat([item['input_ids'][0].long(), torch.zeros(max_len - len(item['input_ids'][0]), dtype=torch.long)], dim=0) for item in tokenized_data], dim=0)\n",
    "    attention_masks = torch.stack([torch.cat([item['attention_mask'][0], torch.zeros(max_len - len(item['attention_mask'][0]))], dim=0) for item in tokenized_data], dim=0)\n",
    "\n",
    "    dataset = TensorDataset(input_ids, attention_masks, labels_start)\n",
    "    return dataset, le\n",
    "\n",
    "train_dataset, label_encoder = prepare_dataset(train_data)\n",
    "test_dataset, _ = prepare_dataset(test_data)\n",
    "\n",
    "batch_size = 8\n",
    "train_dataloader = DataLoader(train_dataset, batch_size=batch_size, shuffle=True)\n",
    "test_dataloader = DataLoader(test_dataset, batch_size=batch_size)\n",
    "\n",
    "device = torch.device(\"cuda\" if torch.cuda.is_available() else \"cpu\")\n",
    "model.to(device)\n",
    "model.train()\n",
    "\n",
    "optimizer = AdamW(model.parameters(), lr=2e-5)\n",
    "total_steps = len(train_dataloader) * 3  \n",
    "\n",
    "scheduler = get_linear_schedule_with_warmup(optimizer, num_warmup_steps=0, num_training_steps=total_steps)\n",
    "\n",
    "for epoch in range(3):  \n",
    "    total_loss = 0\n",
    "    for batch in tqdm(train_dataloader, desc=f\"Epoch {epoch + 1}\"):\n",
    "        batch = tuple(t.to(device) for t in batch)\n",
    "        inputs = {'input_ids': batch[0], 'attention_mask': batch[1], 'start_positions': batch[2]}\n",
    "        outputs = model(**inputs)\n",
    "        if outputs.loss is not None:\n",
    "            loss = outputs.loss\n",
    "            total_loss += loss.item()\n",
    "            loss.backward()\n",
    "            optimizer.step()\n",
    "            scheduler.step()\n",
    "            optimizer.zero_grad()\n",
    "        else:\n",
    "            pass\n",
    "            #print(\"Loss is None for this batch. Skipping...\")\n",
    "\n",
    "    average_loss = total_loss / len(train_dataloader)\n",
    "    print(f\"Epoch {epoch + 1} - Average Loss: {average_loss}\")\n",
    "\n",
    "model.eval()\n",
    "predictions = []\n",
    "\n",
    "for batch in tqdm(test_dataloader, desc=\"Evaluating\"):\n",
    "    batch = tuple(t.to(device) for t in batch)\n",
    "    inputs = {'input_ids': batch[0], 'attention_mask': batch[1]}\n",
    "    outputs = model(**inputs)\n",
    "    start_logits = outputs.start_logits.detach().cpu().numpy()\n",
    "    predictions.extend([start.argmax() for start in start_logits])\n",
    "\n",
    "predicted_answers = label_encoder.inverse_transform(predictions)\n",
    "predicted_answers = test_data['ANSWER'].dtype.type(predicted_answers)\n",
    "\n",
    "# Convert predicted_answers to the same type as test_data['ANSWER']\n",
    "predicted_answers = predicted_answers.astype(str)\n",
    "\n",
    "# Convert test_data['ANSWER'] to the same type as predicted_answers\n",
    "test_data['ANSWER'] = test_data['ANSWER'].astype(str)\n",
    "\n",
    "# Evaluation metrics\n",
    "print(test_data['ANSWER'], test_data['ANSWER'].dtype, predicted_answers, predicted_answers.dtype)\n",
    "\n",
    "# Now, you can proceed with the evaluation metrics\n",
    "accuracy = accuracy_score(test_data['ANSWER'], predicted_answers) * 100\n",
    "f1 = f1_score(test_data['ANSWER'], predicted_answers, average='weighted') * 100\n",
    "\n",
    "references = [[str(answer)] for answer in test_data['ANSWER']]\n",
    "bleu_scores = [sentence_bleu(references, predicted.split()) for predicted in predicted_answers]\n",
    "\n",
    "print(f\"Accuracy: {accuracy:.2f}%\")\n",
    "print(f\"F1 Score: {f1:.2f}\")\n",
    "print(f\"BLEU Score: {sum(bleu_scores) / len(bleu_scores):.4f}\")\n",
    "\n",
    "# predicted_answers = label_encoder.inverse_transform(predictions)\n",
    "# predicted_answers = test_data['ANSWER'].dtype.type(predicted_answers)\n",
    "\n",
    "# # Evaluation metrics\n",
    "# accuracy = accuracy_score(test_data['ANSWER'], predicted_answers) * 100\n",
    "# f1 = f1_score(test_data['ANSWER'], predicted_answers, average='weighted') * 100\n",
    "\n",
    "# references = [[str(answer)] for answer in test_data['ANSWER']]\n",
    "# bleu_scores = [sentence_bleu(references, predicted.split()) for predicted in predicted_answers]\n",
    "\n",
    "# print(f\"Accuracy: {accuracy:.2f}%\")\n",
    "# print(f\"F1 Score: {f1:.2f}\")\n",
    "# print(f\"BLEU Score: {sum(bleu_scores) / len(bleu_scores):.4f}\")\n",
    "\n"
   ]
  },
  {
   "cell_type": "code",
   "execution_count": 20,
   "metadata": {},
   "outputs": [
    {
     "name": "stdout",
     "output_type": "stream",
     "text": [
      "5866                                   পশ্চিমাঞ্চলীয়\n",
      "7967                                    ওয়াসিম আকরাম\n",
      "3032                           পররাষ্ট্র মন্ত্রণালয়\n",
      "4614                                   শিক্ষক সমিতির\n",
      "318                           এটিএন বাংলার স্টুডিওতে\n",
      "                            ...                     \n",
      "4607                                 ওসি আকতার হোসেন\n",
      "2943                           মাধ্যমিক স্তর পর্যন্ত\n",
      "2441    নারায়ণগঞ্জের জ্যেষ্ঠ বিচারিক হাকিমের আদালতে\n",
      "921                                কাকা ও রোনালদিনহো\n",
      "322                                          মাধুরীর\n",
      "Name: ANSWER, Length: 1606, dtype: object object [' আইনগত' ' অন্য যেকোনো সময়ের চেয়ে বেশি' ' অপহরণের পর ভারতে পাচার ' ...\n",
      " ' আমদানিরপ্তানি' ' অবশ ' ' অনুপস্থিতির '] <U104\n"
     ]
    },
    {
     "name": "stderr",
     "output_type": "stream",
     "text": [
      "/home/wasit/.local/lib/python3.10/site-packages/nltk/translate/bleu_score.py:552: UserWarning: \n",
      "The hypothesis contains 0 counts of 2-gram overlaps.\n",
      "Therefore the BLEU score evaluates to 0, independently of\n",
      "how many N-gram overlaps of lower order it contains.\n",
      "Consider using lower n-gram order or use SmoothingFunction()\n",
      "  warnings.warn(_msg)\n",
      "/home/wasit/.local/lib/python3.10/site-packages/nltk/translate/bleu_score.py:552: UserWarning: \n",
      "The hypothesis contains 0 counts of 3-gram overlaps.\n",
      "Therefore the BLEU score evaluates to 0, independently of\n",
      "how many N-gram overlaps of lower order it contains.\n",
      "Consider using lower n-gram order or use SmoothingFunction()\n",
      "  warnings.warn(_msg)\n",
      "/home/wasit/.local/lib/python3.10/site-packages/nltk/translate/bleu_score.py:552: UserWarning: \n",
      "The hypothesis contains 0 counts of 4-gram overlaps.\n",
      "Therefore the BLEU score evaluates to 0, independently of\n",
      "how many N-gram overlaps of lower order it contains.\n",
      "Consider using lower n-gram order or use SmoothingFunction()\n",
      "  warnings.warn(_msg)\n"
     ]
    },
    {
     "name": "stdout",
     "output_type": "stream",
     "text": [
      "Accuracy: 0.00%\n",
      "F1 Score: 0.00\n",
      "BLEU Score: 0.0000\n"
     ]
    }
   ],
   "source": [
    "predicted_answers = label_encoder.inverse_transform(predictions)\n",
    "predicted_answers = test_data['ANSWER'].dtype.type(predicted_answers)\n",
    "\n",
    "# Convert predicted_answers to the same type as test_data['ANSWER']\n",
    "predicted_answers = predicted_answers.astype(str)\n",
    "\n",
    "# Convert test_data['ANSWER'] to the same type as predicted_answers\n",
    "test_data['ANSWER'] = test_data['ANSWER'].astype(str)\n",
    "\n",
    "# Evaluation metrics\n",
    "print(test_data['ANSWER'], test_data['ANSWER'].dtype, predicted_answers, predicted_answers.dtype)\n",
    "\n",
    "# Now, you can proceed with the evaluation metrics\n",
    "accuracy = accuracy_score(test_data['ANSWER'], predicted_answers) * 100\n",
    "f1 = f1_score(test_data['ANSWER'], predicted_answers, average='weighted') * 100\n",
    "\n",
    "references = [[str(answer)] for answer in test_data['ANSWER']]\n",
    "bleu_scores = [sentence_bleu(references, predicted.split()) for predicted in predicted_answers]\n",
    "\n",
    "print(f\"Accuracy: {accuracy:.2f}%\")\n",
    "print(f\"F1 Score: {f1:.2f}\")\n",
    "print(f\"BLEU Score: {sum(bleu_scores) / len(bleu_scores):.4f}\")\n"
   ]
  },
  {
   "cell_type": "code",
   "execution_count": 18,
   "metadata": {},
   "outputs": [
    {
     "name": "stderr",
     "output_type": "stream",
     "text": [
      "/home/wasit/.local/lib/python3.10/site-packages/nltk/translate/bleu_score.py:552: UserWarning: \n",
      "The hypothesis contains 0 counts of 2-gram overlaps.\n",
      "Therefore the BLEU score evaluates to 0, independently of\n",
      "how many N-gram overlaps of lower order it contains.\n",
      "Consider using lower n-gram order or use SmoothingFunction()\n",
      "  warnings.warn(_msg)\n",
      "/home/wasit/.local/lib/python3.10/site-packages/nltk/translate/bleu_score.py:552: UserWarning: \n",
      "The hypothesis contains 0 counts of 3-gram overlaps.\n",
      "Therefore the BLEU score evaluates to 0, independently of\n",
      "how many N-gram overlaps of lower order it contains.\n",
      "Consider using lower n-gram order or use SmoothingFunction()\n",
      "  warnings.warn(_msg)\n",
      "/home/wasit/.local/lib/python3.10/site-packages/nltk/translate/bleu_score.py:552: UserWarning: \n",
      "The hypothesis contains 0 counts of 4-gram overlaps.\n",
      "Therefore the BLEU score evaluates to 0, independently of\n",
      "how many N-gram overlaps of lower order it contains.\n",
      "Consider using lower n-gram order or use SmoothingFunction()\n",
      "  warnings.warn(_msg)\n"
     ]
    },
    {
     "name": "stdout",
     "output_type": "stream",
     "text": [
      "Accuracy: 0.00%\n",
      "F1 Score: 0.00\n",
      "BLEU Score: 0.0000\n"
     ]
    }
   ],
   "source": [
    "import pandas as pd\n",
    "from nltk.translate.bleu_score import SmoothingFunction\n",
    "\n",
    "smoothing = SmoothingFunction().method4  # You can try different smoothing methods\n",
    "bleu_scores = [sentence_bleu(references, predicted.split(), smoothing_function=smoothing) for predicted in predicted_answers]\n",
    "\n",
    "\n",
    "# Convert to pandas Series\n",
    "predicted_answers = pd.Series(predicted_answers)\n",
    "\n",
    "# Convert to lowercase and remove extra whitespaces\n",
    "predicted_answers = predicted_answers.str.lower().str.strip()\n",
    "test_data['ANSWER'] = test_data['ANSWER'].str.lower().str.strip()\n",
    "\n",
    "# Now, you can proceed with the evaluation metrics\n",
    "accuracy = accuracy_score(test_data['ANSWER'], predicted_answers) * 100\n",
    "f1 = f1_score(test_data['ANSWER'], predicted_answers, average='weighted') * 100\n",
    "\n",
    "references = [[str(answer)] for answer in test_data['ANSWER']]\n",
    "bleu_scores = [sentence_bleu(references, predicted.split()) for predicted in predicted_answers]\n",
    "\n",
    "print(f\"Accuracy: {accuracy:.2f}%\")\n",
    "print(f\"F1 Score: {f1:.2f}\")\n",
    "print(f\"BLEU Score: {sum(bleu_scores) / len(bleu_scores):.4f}\")\n"
   ]
  }
 ],
 "metadata": {
  "kernelspec": {
   "display_name": "Python 3 (ipykernel)",
   "language": "python",
   "name": "python3"
  }
 },
 "nbformat": 4,
 "nbformat_minor": 2
}
